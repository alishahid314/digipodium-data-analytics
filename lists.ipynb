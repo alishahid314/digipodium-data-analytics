{
 "cells": [
  {
   "cell_type": "code",
   "execution_count": 13,
   "metadata": {},
   "outputs": [],
   "source": [
    "a = [] #empty list\n",
    "b=[1,2,3,5,67,2] #LIST OF INTGERS\n",
    "c=['apple','banana','orange'] #list of string\n",
    "d=[[1,2,3],[4,5,6],[7,8,9]] #list of list(nested list)\n",
    "e=['apple',20,False,'mango',50.5,True] "
   ]
  },
  {
   "cell_type": "code",
   "execution_count": 2,
   "metadata": {},
   "outputs": [
    {
     "name": "stdout",
     "output_type": "stream",
     "text": [
      "['t', 'h', 'e', ' ', 'l', 'o', 's', 's', 't', ' ', 'm', 'e', 't', 'a', 'l']\n"
     ]
    }
   ],
   "source": [
    "word = 'the losst metal'\n",
    "chars =list(word)\n",
    "print(chars)"
   ]
  },
  {
   "cell_type": "code",
   "execution_count": 4,
   "metadata": {},
   "outputs": [
    {
     "name": "stdout",
     "output_type": "stream",
     "text": [
      "[1, 2, 3, 1, 2, 3, 1, 2, 3, 1, 2, 3, 1, 2, 3]\n"
     ]
    }
   ],
   "source": [
    "f=[1,2,3]*5 #repeat list 5 times\n",
    "print(f)"
   ]
  },
  {
   "cell_type": "code",
   "execution_count": 14,
   "metadata": {},
   "outputs": [],
   "source": [
    "name = input(\"what is your name:\")\n",
    "a.append(name)"
   ]
  },
  {
   "cell_type": "code",
   "execution_count": 18,
   "metadata": {},
   "outputs": [],
   "source": [
    "movies = ['ineption','x men','gaurdian of galaxy','RRR','avengers','spder man','black crab','ghost','manifest','13 hours','miss bala','mohen jodaro','godfather','narvik','kabir singh']"
   ]
  },
  {
   "cell_type": "code",
   "execution_count": 21,
   "metadata": {},
   "outputs": [
    {
     "data": {
      "text/plain": [
       "15"
      ]
     },
     "execution_count": 21,
     "metadata": {},
     "output_type": "execute_result"
    }
   ],
   "source": [
    "len(movies)\n"
   ]
  },
  {
   "cell_type": "code",
   "execution_count": 26,
   "metadata": {},
   "outputs": [
    {
     "name": "stdout",
     "output_type": "stream",
     "text": [
      "13 hours\n",
      "ineption\n",
      "spder man\n",
      "miss bala\n",
      "black crab\n"
     ]
    }
   ],
   "source": [
    "print(movies[-6])\n",
    "print(movies[0])\n",
    "print(movies[5])\n",
    "print(movies[-5])\n",
    "print(movies[6])"
   ]
  },
  {
   "cell_type": "code",
   "execution_count": 28,
   "metadata": {},
   "outputs": [],
   "source": [
    "movies[1] = 'amazon'"
   ]
  },
  {
   "cell_type": "code",
   "execution_count": 29,
   "metadata": {},
   "outputs": [
    {
     "data": {
      "text/plain": [
       "'amazon'"
      ]
     },
     "execution_count": 29,
     "metadata": {},
     "output_type": "execute_result"
    }
   ],
   "source": [
    "movies[1]"
   ]
  },
  {
   "cell_type": "code",
   "execution_count": 42,
   "metadata": {},
   "outputs": [
    {
     "data": {
      "text/plain": [
       "['ineption', 'amazon', 'gaurdian of galaxy', 'RRR']"
      ]
     },
     "execution_count": 42,
     "metadata": {},
     "output_type": "execute_result"
    }
   ],
   "source": [
    "movies[0:4] #first five movies"
   ]
  },
  {
   "cell_type": "code",
   "execution_count": 43,
   "metadata": {},
   "outputs": [
    {
     "data": {
      "text/plain": [
       "['mohen jodaro', 'godfather', 'narvik', 'kabir singh']"
      ]
     },
     "execution_count": 43,
     "metadata": {},
     "output_type": "execute_result"
    }
   ],
   "source": [
    "movies[-4:] #last five movies"
   ]
  },
  {
   "cell_type": "code",
   "execution_count": 45,
   "metadata": {},
   "outputs": [
    {
     "data": {
      "text/plain": [
       "['RRR',\n",
       " 'avengers',\n",
       " 'spder man',\n",
       " 'black crab',\n",
       " 'ghost',\n",
       " 'manifest',\n",
       " '13 hours',\n",
       " 'miss bala',\n",
       " 'mohen jodaro']"
      ]
     },
     "execution_count": 45,
     "metadata": {},
     "output_type": "execute_result"
    }
   ],
   "source": [
    "movies[3:-3] #all movies except 3 and last 3"
   ]
  },
  {
   "cell_type": "code",
   "execution_count": 47,
   "metadata": {},
   "outputs": [
    {
     "name": "stdout",
     "output_type": "stream",
     "text": [
      "['kabir singh', 'narvik', 'godfather', 'mohen jodaro', 'miss bala', '13 hours', 'manifest', 'ghost', 'black crab', 'spder man', 'avengers', 'RRR', 'gaurdian of galaxy', 'amazon', 'ineption']\n",
      "['ineption', 'gaurdian of galaxy', 'avengers', 'black crab', 'manifest', 'miss bala', 'godfather', 'kabir singh']\n",
      "['amazon', 'RRR', 'spder man', 'ghost', '13 hours', 'mohen jodaro', 'narvik']\n"
     ]
    }
   ],
   "source": [
    "print(movies[::-1]) #all movies but in reverse order\n",
    "print(movies[::2]) #all movies even indexed no.\n",
    "print(movies[1::2]) #all movies odd indexed no."
   ]
  },
  {
   "cell_type": "code",
   "execution_count": null,
   "metadata": {},
   "outputs": [],
   "source": []
  }
 ],
 "metadata": {
  "kernelspec": {
   "display_name": "base",
   "language": "python",
   "name": "python3"
  },
  "language_info": {
   "codemirror_mode": {
    "name": "ipython",
    "version": 3
   },
   "file_extension": ".py",
   "mimetype": "text/x-python",
   "name": "python",
   "nbconvert_exporter": "python",
   "pygments_lexer": "ipython3",
   "version": "3.10.8"
  },
  "orig_nbformat": 4,
  "vscode": {
   "interpreter": {
    "hash": "d352f530d35ba9a8cbd74dc54ae14fe97a35856bed16a2f3b615ca61b68e7fcb"
   }
  }
 },
 "nbformat": 4,
 "nbformat_minor": 2
}
