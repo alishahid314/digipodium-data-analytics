{
 "cells": [
  {
   "cell_type": "code",
   "execution_count": 5,
   "metadata": {},
   "outputs": [
    {
     "name": "stdout",
     "output_type": "stream",
     "text": [
      "you are a fool\n"
     ]
    }
   ],
   "source": [
    "a=int(input('enter first number:'))\n",
    "b=int(input('enter second number:'))\n",
    "if a>=b:\n",
    "    print('i am genius')\n",
    "else:\n",
    "    print('you are a fool')"
   ]
  },
  {
   "cell_type": "code",
   "execution_count": 6,
   "metadata": {},
   "outputs": [
    {
     "data": {
      "text/plain": [
       "8"
      ]
     },
     "execution_count": 6,
     "metadata": {},
     "output_type": "execute_result"
    }
   ],
   "source": [
    "lst={'instagram','testbook','zomato','swiggy','telegram','guidely','adda0247','2'}\n",
    "len(lst)"
   ]
  },
  {
   "cell_type": "code",
   "execution_count": 1,
   "metadata": {},
   "outputs": [
    {
     "name": "stdout",
     "output_type": "stream",
     "text": [
      "email is invalid\n"
     ]
    }
   ],
   "source": [
    "username=input('Enter your name:')\n",
    "email=input('enter your emai:')\n",
    "pwd=input('enter your paascode:')\n",
    "pwd2=input('confirm your passcode:')\n",
    "\n",
    "if len(username)>=4 and len(username)<=15:\n",
    "    if '@' in email and email.islower() and len(email.com)>10:\n",
    "        if len(pwd)>=6 and pwd!=username:\n",
    "            if pwd==pwd2:\n",
    "                print(\"hurray🎂\")\n",
    "            else:\n",
    "                print(\"password do not match😢\")\n",
    "        \n",
    "        else:\n",
    "            print(\"password is invalid😜\")\n",
    "    else:\n",
    "        print(\"email is invalid\")\n",
    "else:\n",
    "    print(\"username is invalid🤦‍♂️\")"
   ]
  },
  {
   "cell_type": "code",
   "execution_count": null,
   "metadata": {},
   "outputs": [],
   "source": []
  },
  {
   "attachments": {},
   "cell_type": "markdown",
   "metadata": {},
   "source": [
    "if-elif\n"
   ]
  },
  {
   "cell_type": "code",
   "execution_count": 16,
   "metadata": {},
   "outputs": [
    {
     "name": "stdout",
     "output_type": "stream",
     "text": [
      "you=shahid\n",
      "you are outstanding\n"
     ]
    }
   ],
   "source": [
    "name=input(\"enter your name:\")\n",
    "print(f'you={name}')\n",
    "max_marks = int(input('enter the marks:'))\n",
    "if max_marks>90:\n",
    "    print(\"you are outstanding\")\n",
    "elif max_marks>75:\n",
    "    print(\"you are intelligent\")\n",
    "elif max_marks>50:\n",
    "    print(\"you are a good performmer\")\n",
    "else:\n",
    "    print(\"poor\")"
   ]
  },
  {
   "cell_type": "code",
   "execution_count": null,
   "metadata": {},
   "outputs": [
    {
     "name": "stdout",
     "output_type": "stream",
     "text": [
      "given number is even\n"
     ]
    }
   ],
   "source": [
    "x=int(input(\"enter number\"))\n",
    "if x%2 == 0:\n",
    "    print(\"given number is even\")\n",
    "else: \n",
    "    print(\"given number is odd\")\n"
   ]
  },
  {
   "cell_type": "code",
   "execution_count": null,
   "metadata": {},
   "outputs": [],
   "source": [
    "\n"
   ]
  }
 ],
 "metadata": {
  "kernelspec": {
   "display_name": "base",
   "language": "python",
   "name": "python3"
  },
  "language_info": {
   "codemirror_mode": {
    "name": "ipython",
    "version": 3
   },
   "file_extension": ".py",
   "mimetype": "text/x-python",
   "name": "python",
   "nbconvert_exporter": "python",
   "pygments_lexer": "ipython3",
   "version": "3.10.8"
  },
  "orig_nbformat": 4,
  "vscode": {
   "interpreter": {
    "hash": "d352f530d35ba9a8cbd74dc54ae14fe97a35856bed16a2f3b615ca61b68e7fcb"
   }
  }
 },
 "nbformat": 4,
 "nbformat_minor": 2
}
