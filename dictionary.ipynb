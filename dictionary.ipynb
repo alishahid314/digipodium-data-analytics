{
 "cells": [
  {
   "cell_type": "code",
   "execution_count": 1,
   "metadata": {},
   "outputs": [
    {
     "name": "stdout",
     "output_type": "stream",
     "text": [
      "['brandon sandon', 'the lost metal', 7, 'fantasy', '2022', '19.00']\n"
     ]
    }
   ],
   "source": [
    "details = ['brandon sandon','the lost metal',7,'fantasy','2022','19.00']\n",
    "print(details)"
   ]
  },
  {
   "cell_type": "code",
   "execution_count": 3,
   "metadata": {},
   "outputs": [
    {
     "data": {
      "text/plain": [
       "'19.00'"
      ]
     },
     "execution_count": 3,
     "metadata": {},
     "output_type": "execute_result"
    }
   ],
   "source": [
    "details[5]"
   ]
  },
  {
   "cell_type": "code",
   "execution_count": 8,
   "metadata": {},
   "outputs": [],
   "source": [
    "details_dict={\n",
    "    'author':'brandon sandon',\n",
    "    'title':'the lost metal',\n",
    "    'part':7,\n",
    "    'genre':'fantasy',\n",
    "    'relase date':'2022',\n",
    "    'prince':'$19.00'\n",
    "}"
   ]
  },
  {
   "cell_type": "code",
   "execution_count": 9,
   "metadata": {},
   "outputs": [
    {
     "name": "stdout",
     "output_type": "stream",
     "text": [
      "{'author': 'brandon sandon', 'title': 'the lost metal', 'part': 7, 'genre': 'fantasy', 'relase date': '2022', 'prince': '$19.00'}\n",
      "<class 'dict'>\n"
     ]
    }
   ],
   "source": [
    "print(details_dict)\n",
    "print(type(details_dict))\n"
   ]
  },
  {
   "cell_type": "code",
   "execution_count": 11,
   "metadata": {},
   "outputs": [
    {
     "data": {
      "text/plain": [
       "'brandon sandon'"
      ]
     },
     "execution_count": 11,
     "metadata": {},
     "output_type": "execute_result"
    }
   ],
   "source": [
    "details_dict['author']"
   ]
  },
  {
   "cell_type": "code",
   "execution_count": 13,
   "metadata": {},
   "outputs": [
    {
     "data": {
      "text/plain": [
       "'2022'"
      ]
     },
     "execution_count": 13,
     "metadata": {},
     "output_type": "execute_result"
    }
   ],
   "source": [
    "details_dict['relase date']"
   ]
  },
  {
   "cell_type": "code",
   "execution_count": 14,
   "metadata": {},
   "outputs": [],
   "source": [
    "details_dict['relase date']='15 Nov,22'"
   ]
  },
  {
   "cell_type": "code",
   "execution_count": 15,
   "metadata": {},
   "outputs": [
    {
     "data": {
      "text/plain": [
       "{'author': 'brandon sandon',\n",
       " 'title': 'the lost metal',\n",
       " 'part': 7,\n",
       " 'genre': 'fantasy',\n",
       " 'relase date': '15 Nov,22',\n",
       " 'prince': '$19.00'}"
      ]
     },
     "execution_count": 15,
     "metadata": {},
     "output_type": "execute_result"
    }
   ],
   "source": [
    "details_dict"
   ]
  },
  {
   "cell_type": "code",
   "execution_count": 22,
   "metadata": {},
   "outputs": [],
   "source": [
    "student={\n",
    "'name':'shruti nigam',\n",
    "'class':'M.A in english',\n",
    "'college':'k.k.v',\n",
    "'address':'lko',\n",
    "'symbol':'aquarius',\n",
    "'sports':'badminton',\n",
    "'age': 22,\n",
    "'date_of_birth':'26 april',\n",
    "'fav_color':'black'}"
   ]
  },
  {
   "cell_type": "code",
   "execution_count": 24,
   "metadata": {},
   "outputs": [],
   "source": [
    "student['school']='c.c.s'"
   ]
  },
  {
   "cell_type": "code",
   "execution_count": 25,
   "metadata": {},
   "outputs": [
    {
     "data": {
      "text/plain": [
       "{'name': 'shruti nigam',\n",
       " 'class': 'M.A in english',\n",
       " 'college': 'k.k.v',\n",
       " 'address': 'lko',\n",
       " 'symbol': 'aquarius',\n",
       " 'sports': 'badminton',\n",
       " 'age': 22,\n",
       " 'date_of_birth': '26 april',\n",
       " 'fav_color': 'black',\n",
       " 'school': 'c.c.s'}"
      ]
     },
     "execution_count": 25,
     "metadata": {},
     "output_type": "execute_result"
    }
   ],
   "source": [
    "student"
   ]
  },
  {
   "cell_type": "code",
   "execution_count": 26,
   "metadata": {},
   "outputs": [
    {
     "name": "stdout",
     "output_type": "stream",
     "text": [
      "name\n",
      "class\n",
      "college\n",
      "address\n",
      "symbol\n",
      "sports\n",
      "age\n",
      "date_of_birth\n",
      "fav_color\n",
      "school\n"
     ]
    }
   ],
   "source": [
    "for k in student: #to print key only\n",
    "    print(k)"
   ]
  },
  {
   "cell_type": "code",
   "execution_count": 27,
   "metadata": {},
   "outputs": [
    {
     "name": "stdout",
     "output_type": "stream",
     "text": [
      "shruti nigam\n",
      "M.A in english\n",
      "k.k.v\n",
      "lko\n",
      "aquarius\n",
      "badminton\n",
      "22\n",
      "26 april\n",
      "black\n",
      "c.c.s\n"
     ]
    }
   ],
   "source": [
    "#values\n",
    "for k in student:\n",
    "    print(student[k])"
   ]
  },
  {
   "cell_type": "code",
   "execution_count": 31,
   "metadata": {},
   "outputs": [
    {
     "name": "stdout",
     "output_type": "stream",
     "text": [
      "name                shruti nigam\n",
      "class               M.A in english\n",
      "college             k.k.v\n",
      "address             lko\n",
      "symbol              aquarius\n",
      "sports              badminton\n",
      "age                 22\n",
      "date_of_birth       26 april\n",
      "fav_color           black\n",
      "school              c.c.s\n"
     ]
    }
   ],
   "source": [
    "for k,v in student.items():\n",
    "    print(f'{k:20}{v}') #20 is to give space"
   ]
  },
  {
   "cell_type": "code",
   "execution_count": 33,
   "metadata": {},
   "outputs": [
    {
     "data": {
      "text/plain": [
       "dict_values(['shruti nigam', 'M.A in english', 'k.k.v', 'lko', 'aquarius', 'badminton', 22, '26 april', 'black', 'c.c.s'])"
      ]
     },
     "execution_count": 33,
     "metadata": {},
     "output_type": "execute_result"
    }
   ],
   "source": [
    "student.values()"
   ]
  },
  {
   "cell_type": "code",
   "execution_count": 34,
   "metadata": {},
   "outputs": [
    {
     "data": {
      "text/plain": [
       "['shruti nigam',\n",
       " 'M.A in english',\n",
       " 'k.k.v',\n",
       " 'lko',\n",
       " 'aquarius',\n",
       " 'badminton',\n",
       " 22,\n",
       " '26 april',\n",
       " 'black',\n",
       " 'c.c.s']"
      ]
     },
     "execution_count": 34,
     "metadata": {},
     "output_type": "execute_result"
    }
   ],
   "source": [
    "list(student.values())"
   ]
  },
  {
   "cell_type": "code",
   "execution_count": 35,
   "metadata": {},
   "outputs": [
    {
     "data": {
      "text/plain": [
       "dict_values(['shruti nigam', 'M.A in english', 'k.k.v', 'lko', 'aquarius', 'badminton', 22, '26 april', 'black', 'c.c.s'])"
      ]
     },
     "execution_count": 35,
     "metadata": {},
     "output_type": "execute_result"
    }
   ],
   "source": [
    "student.values()"
   ]
  },
  {
   "cell_type": "code",
   "execution_count": 44,
   "metadata": {},
   "outputs": [
    {
     "data": {
      "text/plain": [
       "'shruti nigam'"
      ]
     },
     "execution_count": 44,
     "metadata": {},
     "output_type": "execute_result"
    }
   ],
   "source": [
    "student.get('name',0)"
   ]
  },
  {
   "cell_type": "code",
   "execution_count": null,
   "metadata": {},
   "outputs": [],
   "source": []
  }
 ],
 "metadata": {
  "kernelspec": {
   "display_name": "base",
   "language": "python",
   "name": "python3"
  },
  "language_info": {
   "codemirror_mode": {
    "name": "ipython",
    "version": 3
   },
   "file_extension": ".py",
   "mimetype": "text/x-python",
   "name": "python",
   "nbconvert_exporter": "python",
   "pygments_lexer": "ipython3",
   "version": "3.10.8"
  },
  "orig_nbformat": 4
 },
 "nbformat": 4,
 "nbformat_minor": 2
}
