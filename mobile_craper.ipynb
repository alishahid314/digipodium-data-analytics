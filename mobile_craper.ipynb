{
 "cells": [
  {
   "cell_type": "code",
   "execution_count": 6,
   "metadata": {},
   "outputs": [],
   "source": [
    "from dputils.scrape import Scraper,Tag"
   ]
  },
  {
   "cell_type": "code",
   "execution_count": 12,
   "metadata": {},
   "outputs": [
    {
     "name": "stdout",
     "output_type": "stream",
     "text": [
      "<title>Amazon.in : watches</title>\n"
     ]
    }
   ],
   "source": [
    "query = 'watches'\n",
    "page = 1\n",
    "webpage = Scraper(f'https://www.amazon.in/s?k={query}&page={page}')\n",
    "print(webpage.soup.title)"
   ]
  },
  {
   "cell_type": "code",
   "execution_count": 7,
   "metadata": {},
   "outputs": [],
   "source": [
    "#traget area\n",
    "target = Tag('div',cls=\"s-main-slot s-result-list s-search-results sg-row\")\n",
    "items = Tag('div',cls='s-result-item') #repeating\n",
    "title = Tag('h2',cls='a-size-mini a-spacing-none a-color-base s-line-clamp-2')\n",
    "price = Tag('span',cls='a-price-whole')"
   ]
  },
  {
   "cell_type": "code",
   "execution_count": 10,
   "metadata": {},
   "outputs": [
    {
     "data": {
      "text/plain": [
       "[{'title': None, 'price': None},\n",
       " {'title': None, 'price': None},\n",
       " {'title': \"Analog Men's Watch  \", 'price': '1,298'},\n",
       " {'title': \"Spezia Analog Black Dial Men's Watch-FM1542A-Z  \",\n",
       "  'price': '6,570'},\n",
       " {'title': \"Analog Blue Dial Men's Watch-TW0TG6107  \", 'price': '2,307'},\n",
       " {'title': \"Men's Frontier U0799G1 Silver Stainless-Steel Quartz Fashion Watch  \",\n",
       "  'price': '15,046.'},\n",
       " {'title': 'boAt Flash Edition Smart Watch with Activity Tracker, Multiple Sports Modes, 1.3\" Screen, 170+ Watch Faces, Sleep Monitor, Gesture, Camera & Music Control, IP68 & 7 Days Battery Life(Lightning Black)  ',\n",
       "  'price': '1,499'},\n",
       " {'title': 'USM ID116 Smart Watch Smart Bracelet Fitness Tracker Color Screen Smartwatch Heart Rate Blood Pressure Pedometer Sleep Monitor  ',\n",
       "  'price': '329'},\n",
       " {'title': 'Silicone Strap Analog Wrist Watch for Men (Black/Blue/Red) | LD-BK054  ',\n",
       "  'price': '397'},\n",
       " {'title': 'Fire-Boltt Phoenix Smart Watch with Bluetooth Calling 1.3\",120+ Sports Modes, 240 * 240 PX High Res with SpO2, Heart Rate Monitoring & IP67 Rating, Rs 100 Off on UPI  ',\n",
       "  'price': '1,799'},\n",
       " {'title': 'boAt Wave Prime47 Smart Watch with 1.69\" HD Display, 700+ Active Modes, ASAP Charge, Live Cricket Scores, Crest App Health Ecosystem, HR & SpO2 Monitoring(Forest Green)  ',\n",
       "  'price': '1,199'},\n",
       " {'title': 'boAt Xtend Smartwatch with Alexa Built-in, 1.69” HD Display, Multiple Watch Faces, Stress Monitor, Heart & SpO2 Monitoring, 14 Sports Modes, Sleep Monitor, 5 ATM & 7 Days Battery(Pitch Black)  ',\n",
       "  'price': '1,799'},\n",
       " {'title': 'boAt Wave Style with 1.69\" Square HD Display, HR & SpO2 Monitoring, 7 Days Battery Life, Multiple Watch Faces, Crest App Health Ecosystem, Multiple Sports Modes, IP68(Active Black)  ',\n",
       "  'price': '1,399'},\n",
       " {'title': 'Analog Black Dial Unisex-Adult Watch-38024PP25  ', 'price': '850'},\n",
       " {'title': \"Analog Silver Dial Men's Watch-1864SL07  \", 'price': '1,148'},\n",
       " {'title': 'Noise Newly Launched Twist Bluetooth Calling Smart Watch with 1.38\" TFT Biggest Display, Up-to 7 Days Battery, 100+ Watch Faces, IP68, Heart Rate Monitor, Sleep Tracking (Gold Wine)  ',\n",
       "  'price': '1,999'},\n",
       " {'title': 'Smart Watch for Men Women ID116 Plus Smart Bracelet Fitness Tracker Color Screen Smartwatch Heart Rate Blood Pressure Pedometer Sleep Monitor  ',\n",
       "  'price': '399'},\n",
       " {'title': 'Analog Day & Date Display Wrist Watch for Men & Boys (Black)  ',\n",
       "  'price': '299'},\n",
       " {'title': \"Analog Silver Dial Men's Watch-1864SL07  \", 'price': '1,148'},\n",
       " {'title': None, 'price': None},\n",
       " {'title': 'Hammer Ace 3.0 Bluetooth Calling Smart Watch with Largest 1.85\" IPS Display, Dual Mode, Spo2, Heart Rate, Strong Metallic Body & Skin Friendly Strap (Black)  ',\n",
       "  'price': '1,499'},\n",
       " {'title': 'boAt Flash Edition Smart Watch with Activity Tracker, Multiple Sports Modes, 1.3\" Screen, 170+ Watch Faces, Sleep Monitor, Gesture, Camera & Music Control, IP68 & 7 Days Battery Life(Galaxy Blue)  ',\n",
       "  'price': '1,499'},\n",
       " {'title': 'Tokdis MX-1 Pro Bluetooth Calling Smartwatch - 1.69” LCD Display, Multiple Watch Faces, Sleep Monitor, Heart & SpO2 Monitoring, Multiple Sports Modes  ',\n",
       "  'price': '799'},\n",
       " {'title': 'Bouncefit D20 Y68 Fitness Band Smartwatch – Single Touch Interface, Water Resistant, Workout Modes, Quick Charge Sports Smartwatch for Boys and Girls – Jet Black  ',\n",
       "  'price': '480'},\n",
       " {'title': \"Chronograph White Dial Men's Watch-CH2882  \", 'price': '4,935'},\n",
       " {'title': 'Silicone Strap Black Dial Watch for Men | Watches for Boys | Stylish Analog Watches for Men  ',\n",
       "  'price': '1,499'},\n",
       " {'title': 'Fancy Watch with Leather Strip  ', 'price': '549'},\n",
       " {'title': \"Analogue Men's Watch (Multicolored Dial Multi Colored Strap)  \",\n",
       "  'price': '429'},\n",
       " {'title': 'Noise ColorFit Pulse Grand Smart Watch with 1.69\"(4.2cm) HD Display, 60 Sports Modes, 150 Watch Faces, Fast Charge, Spo2, Stress, Sleep, Heart Rate Monitoring & IP68 Waterproof (Lime Green)  ',\n",
       "  'price': '1,499'},\n",
       " {'title': 'Digital Sports Multi Functional Black Dial Watch for Mens Boys -315RED  ',\n",
       "  'price': '284'},\n",
       " {'title': \"Digital 24 Images Projector Watch for Kids Boys Watch, Diwali Gift, Birthday Return Gift, Best Digital Toy Watch for Boy's & Girl's BG-906  \",\n",
       "  'price': '289'},\n",
       " {'title': \"Analog Silver Dial Men's Watch-1864SL09  \", 'price': '1,148'},\n",
       " {'title': 'Honor Magic Watch 2 (46mm, Charcoal Black) 14-Days Battery, SpO2, BT Calling & Music Playback, 100 Workout Modes, AMOLED Touch Screen, Personalized Watch Faces, Sleep & HR Monitor, Smart Companion  ',\n",
       "  'price': '7,999'},\n",
       " {'title': 'boAt Watch Wave Lite  ', 'price': '1,499'},\n",
       " {'title': \"ID-116 Smartwatch for Men's Womens Boys Girls, Bluetooth Smart Fitness Band Watch with Heart Rate Activity Tracker Step & Sports Activity Tracker Smart Watch for  \",\n",
       "  'price': '399'},\n",
       " {'title': \"Analog Men's Watch (Black Dial Black Colored Strap)  \",\n",
       "  'price': '379'},\n",
       " {'title': 'Noise ColorFit Pulse Smartwatch with 3.56 cm (1.4\") Full Touch HD Display, SpO2, Heart Rate, Sleep Monitors & 10-Day Battery - Jet Black  ',\n",
       "  'price': '1,199'},\n",
       " {'title': 'Digital Sports Square Dial LED Unisex Stainless Steel Strap Watch for Men and Womens -WCH70  ',\n",
       "  'price': '299'},\n",
       " {'title': \"Analogue Women's Watch (Black Dial)  \", 'price': '799'},\n",
       " {'title': \"Stainless Steel Watch Series Analogue Men's Watch (Black Dial Mens Long Colored Strap) -W219  \",\n",
       "  'price': '285'},\n",
       " {'title': \"Chronograph White Dial Men's Watch-CH2882  \", 'price': '4,935'},\n",
       " {'title': \"Analogue - Digital Men's Watch (Black Dial Black Colored Strap)  \",\n",
       "  'price': '799'},\n",
       " {'title': \"Premium Casual Stylish Watch | Luxury Working Chronograph Watch for Men | Water-Resistant Branded Men's Wrist Watch with Stopwatch & Date Display - Timegrapher Red Leather Watch  \",\n",
       "  'price': '1,109'},\n",
       " {'title': 'Talk S with 1.78\" AMOLED Display|Advanced BT Calling|Music Storage with Wireless Audio Connect|100+ Sports Modes|Animated Watchfaces|5 Days Battery|IP68 Water Resistant|Stress & Mood Monitor  ',\n",
       "  'price': '8,994'},\n",
       " {'title': \"PU Belt Analogue Men's Watch and Boy's Watch  \", 'price': '199'},\n",
       " {'title': 'Multi Dial Chronograph Luxury Quartz Analog Watch for Men  ',\n",
       "  'price': '339'},\n",
       " {'title': 'Noise ColorFit Pulse Grand Smart Watch with 1.69\"(4.29cm) HD Display, 60 Sports Modes, 150 Watch Faces, Fast Charge, Spo2, Stress, Sleep, Heart Rate Monitoring & IP68 Waterproof (Electric Blue)  ',\n",
       "  'price': '1,499'},\n",
       " {'title': 'Fire-Boltt Ninja Call Pro Smart Watch Dual Chip Bluetooth Calling, 1.69\" Display, AI Voice Assistance with 100 Sports Modes, with SpO2 & Heart Rate Monitoring  ',\n",
       "  'price': '1,699'},\n",
       " {'title': 'Simple Sport Digital Men’s Military Watches Electronic LED Time Black Wrist Watch  ',\n",
       "  'price': '449'},\n",
       " {'title': 'Analog Grey Dial Unisex-Adult Watch-38024PP24  ', 'price': '850'},\n",
       " {'title': 'New Edition i7 Pro Max All in One Series 7 Smart Watch with Fitness Tracker Heart Monitor Men Women Smart Watch Black  ',\n",
       "  'price': '619'},\n",
       " {'title': \"Analog Boy's & Men's Watch (Blue Dial Blue Colored Strap)  \",\n",
       "  'price': '266'},\n",
       " {'title': 'CrossBeats Newly launched Ignite S5 Advanced AI ENC BT Calling Smartwatch, 1.96” Super AMOLED Anti-Glare Screen, Always on Display, SnapCharge™ Calculator, 500+ Watch Faces, AI Health Feature (Black)  ',\n",
       "  'price': '4,999'},\n",
       " {'title': 'Fire-Boltt 360 SpO2 Full Touch Large Display Round Smart Watch with in-Built Games, 8 Days Battery Life, IP67 Water Resistant with Blood Oxygen and Heart Rate Monitoring  ',\n",
       "  'price': '1,799'},\n",
       " {'title': 'Analog Watches for Men  ', 'price': '898'},\n",
       " {'title': 'Fire-Boltt Ninja 2 SpO2 Full Touch Smartwatch with 30 Workout Modes, Heart Rate Tracking, and 100+ Cloud Watch Faces, 7 Days of extensive Battery - Black  ',\n",
       "  'price': '1,599'},\n",
       " {'title': \"Analog Blue Dial Men's Watch - FS5237  \", 'price': '7,145'},\n",
       " {'title': 'boAt Wave Lite Smartwatch with 1.69 Inches(4.29cm) HD Display, Heart Rate & SpO2 Level Monitor, Multiple Watch Faces, Activity Tracker, Multiple Sports Modes & IP68 (Scarlet Red)  ',\n",
       "  'price': '1,499'},\n",
       " {'title': 'Analog New Track Day Date Functioning Leather Strap Watch for Men  ',\n",
       "  'price': '329'},\n",
       " {'title': \"Analog Women's Watch (Dial Colored Strap)  \", 'price': '2,216'},\n",
       " {'title': \"Digital Watch Shockproof Multi-Functional Automatic Full Black Color Strap Waterproof Digital Sports Watch for Men's Kids Watch for Boys Watch for Men Pack of-1  \",\n",
       "  'price': '280'},\n",
       " {'title': \"NF 8018 RGCEBN Men's Luxury Quartz Watch Casual Military Sports Quartz Wrist Watches Waterproof Male Watch  \",\n",
       "  'price': '2,869'},\n",
       " {'title': \"Chronograph Men's Watch (Black Dial Black Colored Strap)  \",\n",
       "  'price': '6,597'},\n",
       " {'title': \"Analog Green Dial Men's Watch-1696QC06  \", 'price': '27,995'},\n",
       " {'title': None, 'price': None},\n",
       " {'title': None, 'price': None},\n",
       " {'title': None, 'price': None},\n",
       " {'title': None, 'price': None}]"
      ]
     },
     "execution_count": 10,
     "metadata": {},
     "output_type": "execute_result"
    }
   ],
   "source": [
    "webpage.get_all(target,items,title=title,price=price)"
   ]
  },
  {
   "cell_type": "code",
   "execution_count": 11,
   "metadata": {},
   "outputs": [],
   "source": [
    "#to collect all daata\n",
    "def scrape_product(query,page=1):\n",
    "    webpage = Scraper(f'https://www.amazon.in/s?k={query}&page={page}')\n",
    "    print(webpage.soup.title)\n",
    "    #important\n",
    "    target = Tag('div',cls=\"s-main-slot s-result-list s-search-results sg-row\")\n",
    "    items = Tag('div',cls='s-result-item') #repeating\n",
    "    title = Tag('h2',cls='a-size-mini a-spacing-none a-color-base s-line-clamp-2')\n",
    "    price = Tag('span',cls='a-price-whole') \n",
    "    return webpage.get_all(target,items,title=title,price=price)"
   ]
  },
  {
   "cell_type": "code",
   "execution_count": null,
   "metadata": {},
   "outputs": [
    {
     "name": "stdout",
     "output_type": "stream",
     "text": [
      "<title>Amazon.in : laptops</title>\n",
      "page1 done\n",
      "<title>Amazon.in : laptops</title>\n",
      "page2 done\n",
      "<title>Amazon.in : laptops</title>\n",
      "page3 done\n",
      "<title>Amazon.in : laptops</title>\n",
      "page4 done\n",
      "<title>Amazon.in : laptops</title>\n",
      "page5 done\n",
      "<title>Amazon.in : laptops</title>\n",
      "page6 done\n",
      "<title>Amazon.in : laptops</title>\n",
      "page7 done\n",
      "<title>Amazon.in : laptops</title>\n",
      "page8 done\n",
      "<title>Amazon.in : laptops</title>\n",
      "page9 done\n",
      "<title>Amazon.in : laptops</title>\n",
      "page10 done\n",
      "<title>Amazon.in : laptops</title>\n",
      "page11 done\n",
      "<title>Amazon.in : laptops</title>\n",
      "page12 done\n",
      "<title>Amazon.in : laptops</title>\n",
      "page13 done\n",
      "<title>Amazon.in : laptops</title>\n",
      "page14 done\n"
     ]
    }
   ],
   "source": [
    "all_data=[]\n",
    "query = 'laptops'\n",
    "for i in range (1,15):\n",
    "    all_data.extend(scrape_product(query,1))\n",
    "    print(f'page{i} done')\n"
   ]
  },
  {
   "cell_type": "code",
   "execution_count": 1,
   "metadata": {},
   "outputs": [
    {
     "ename": "NameError",
     "evalue": "name 'all_data' is not defined",
     "output_type": "error",
     "traceback": [
      "\u001b[1;31m---------------------------------------------------------------------------\u001b[0m",
      "\u001b[1;31mNameError\u001b[0m                                 Traceback (most recent call last)",
      "Cell \u001b[1;32mIn[1], line 2\u001b[0m\n\u001b[0;32m      1\u001b[0m \u001b[39mimport\u001b[39;00m \u001b[39mpandas\u001b[39;00m \u001b[39mas\u001b[39;00m \u001b[39mpd\u001b[39;00m\n\u001b[1;32m----> 2\u001b[0m df\u001b[39m=\u001b[39mpd\u001b[39m.\u001b[39mDataFrame(all_data)\u001b[39m.\u001b[39mdropna(how\u001b[39m=\u001b[39m\u001b[39m\"\u001b[39m\u001b[39mall\u001b[39m\u001b[39m\"\u001b[39m)\n\u001b[0;32m      3\u001b[0m df\u001b[39m.\u001b[39mto_csv(\u001b[39m'\u001b[39m\u001b[39mlaptop.csv\u001b[39m\u001b[39m'\u001b[39m,index\u001b[39m=\u001b[39m\u001b[39mFalse\u001b[39;00m)\n",
      "\u001b[1;31mNameError\u001b[0m: name 'all_data' is not defined"
     ]
    }
   ],
   "source": [
    "import pandas as pd\n",
    "df=pd.DataFrame(all_data).dropna(how=\"all\")\n",
    "df.to_csv('laptop.csv',index=False)\n"
   ]
  },
  {
   "cell_type": "code",
   "execution_count": null,
   "metadata": {},
   "outputs": [
    {
     "data": {
      "text/html": [
       "<div>\n",
       "<style scoped>\n",
       "    .dataframe tbody tr th:only-of-type {\n",
       "        vertical-align: middle;\n",
       "    }\n",
       "\n",
       "    .dataframe tbody tr th {\n",
       "        vertical-align: top;\n",
       "    }\n",
       "\n",
       "    .dataframe thead th {\n",
       "        text-align: right;\n",
       "    }\n",
       "</style>\n",
       "<table border=\"1\" class=\"dataframe\">\n",
       "  <thead>\n",
       "    <tr style=\"text-align: right;\">\n",
       "      <th></th>\n",
       "      <th>title</th>\n",
       "      <th>price</th>\n",
       "    </tr>\n",
       "  </thead>\n",
       "  <tbody>\n",
       "    <tr>\n",
       "      <th>2</th>\n",
       "      <td>HP 15s, AMD Ryzen 3 5300U, 15.6 inch(39.6cm) F...</td>\n",
       "      <td>39,990</td>\n",
       "    </tr>\n",
       "    <tr>\n",
       "      <th>3</th>\n",
       "      <td>Dell Vostro 3420 Laptop,12th Gen Intel Core i3...</td>\n",
       "      <td>41,990</td>\n",
       "    </tr>\n",
       "    <tr>\n",
       "      <th>4</th>\n",
       "      <td>Honor MagicBook 14, AMD Ryzen 5 5500U 14-inch ...</td>\n",
       "      <td>44,490</td>\n",
       "    </tr>\n",
       "    <tr>\n",
       "      <th>5</th>\n",
       "      <td>HP 255 G8 Laptop with AMD Athlon Silver 3050U ...</td>\n",
       "      <td>26,999</td>\n",
       "    </tr>\n",
       "    <tr>\n",
       "      <th>6</th>\n",
       "      <td>Lenovo IdeaPad Slim 3 Intel Core i3-1115G4 11t...</td>\n",
       "      <td>33,639</td>\n",
       "    </tr>\n",
       "    <tr>\n",
       "      <th>...</th>\n",
       "      <td>...</td>\n",
       "      <td>...</td>\n",
       "    </tr>\n",
       "    <tr>\n",
       "      <th>515</th>\n",
       "      <td>ASUS VivoBook 14, Intel Core i3-1115G4 11th Ge...</td>\n",
       "      <td>35,990</td>\n",
       "    </tr>\n",
       "    <tr>\n",
       "      <th>516</th>\n",
       "      <td>HP 15s AMD Ryzen 3-5300U 15.6inch(39.6cm) FHD ...</td>\n",
       "      <td>37,990</td>\n",
       "    </tr>\n",
       "    <tr>\n",
       "      <th>517</th>\n",
       "      <td>Lenovo IdeaPad Slim 1 AMD Ryzen 3 3250U 15.6\" ...</td>\n",
       "      <td>36,990</td>\n",
       "    </tr>\n",
       "    <tr>\n",
       "      <th>518</th>\n",
       "      <td>Fujitsu CH Intel Evo Core i5 11th Gen 13.3â€ ...</td>\n",
       "      <td>54,990</td>\n",
       "    </tr>\n",
       "    <tr>\n",
       "      <th>519</th>\n",
       "      <td>Apple 2023 MacBook Pro Laptop M2 Max chip with...</td>\n",
       "      <td>3,49,900</td>\n",
       "    </tr>\n",
       "  </tbody>\n",
       "</table>\n",
       "<p>421 rows × 2 columns</p>\n",
       "</div>"
      ],
      "text/plain": [
       "                                                 title     price\n",
       "2    HP 15s, AMD Ryzen 3 5300U, 15.6 inch(39.6cm) F...    39,990\n",
       "3    Dell Vostro 3420 Laptop,12th Gen Intel Core i3...    41,990\n",
       "4    Honor MagicBook 14, AMD Ryzen 5 5500U 14-inch ...    44,490\n",
       "5    HP 255 G8 Laptop with AMD Athlon Silver 3050U ...    26,999\n",
       "6    Lenovo IdeaPad Slim 3 Intel Core i3-1115G4 11t...    33,639\n",
       "..                                                 ...       ...\n",
       "515  ASUS VivoBook 14, Intel Core i3-1115G4 11th Ge...    35,990\n",
       "516  HP 15s AMD Ryzen 3-5300U 15.6inch(39.6cm) FHD ...    37,990\n",
       "517  Lenovo IdeaPad Slim 1 AMD Ryzen 3 3250U 15.6\" ...    36,990\n",
       "518  Fujitsu CH Intel Evo Core i5 11th Gen 13.3â€ ...    54,990\n",
       "519  Apple 2023 MacBook Pro Laptop M2 Max chip with...  3,49,900\n",
       "\n",
       "[421 rows x 2 columns]"
      ]
     },
     "execution_count": 9,
     "metadata": {},
     "output_type": "execute_result"
    }
   ],
   "source": [
    "df"
   ]
  },
  {
   "cell_type": "code",
   "execution_count": 1,
   "metadata": {},
   "outputs": [
    {
     "ename": "NameError",
     "evalue": "name 'webpage' is not defined",
     "output_type": "error",
     "traceback": [
      "\u001b[1;31m---------------------------------------------------------------------------\u001b[0m",
      "\u001b[1;31mNameError\u001b[0m                                 Traceback (most recent call last)",
      "Cell \u001b[1;32mIn[1], line 1\u001b[0m\n\u001b[1;32m----> 1\u001b[0m webpage\u001b[39m.\u001b[39msoup\n",
      "\u001b[1;31mNameError\u001b[0m: name 'webpage' is not defined"
     ]
    }
   ],
   "source": [
    "webpage.soup"
   ]
  },
  {
   "cell_type": "code",
   "execution_count": null,
   "metadata": {},
   "outputs": [],
   "source": []
  }
 ],
 "metadata": {
  "kernelspec": {
   "display_name": "base",
   "language": "python",
   "name": "python3"
  },
  "language_info": {
   "codemirror_mode": {
    "name": "ipython",
    "version": 3
   },
   "file_extension": ".py",
   "mimetype": "text/x-python",
   "name": "python",
   "nbconvert_exporter": "python",
   "pygments_lexer": "ipython3",
   "version": "3.10.8"
  },
  "orig_nbformat": 4,
  "vscode": {
   "interpreter": {
    "hash": "d352f530d35ba9a8cbd74dc54ae14fe97a35856bed16a2f3b615ca61b68e7fcb"
   }
  }
 },
 "nbformat": 4,
 "nbformat_minor": 2
}
