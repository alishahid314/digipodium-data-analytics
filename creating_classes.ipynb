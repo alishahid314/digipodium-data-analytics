{
 "cells": [
  {
   "cell_type": "code",
   "execution_count": 33,
   "metadata": {},
   "outputs": [],
   "source": [
    "class student:\n",
    "    def __init__(self,name,college,qualification):  # __double underscore define dandur method\n",
    "        self.name = name\n",
    "        self.college = college\n",
    "        self.qualification = qualification\n",
    "\n",
    "    def __repr__(self):\n",
    "         return self.name"
   ]
  },
  {
   "cell_type": "code",
   "execution_count": 34,
   "metadata": {},
   "outputs": [],
   "source": [
    "stdObjs=[\n",
    "    student('rohan','sky high','bachelors'),\n",
    "    student('rahul','sky high','masters'),\n",
    "    student('raj','sky high','bachelors'),\n",
    "    student('ravi','sky high','bachelors'),\n",
    "]"
   ]
  },
  {
   "cell_type": "code",
   "execution_count": 35,
   "metadata": {},
   "outputs": [
    {
     "data": {
      "text/plain": [
       "[rohan, rahul, raj, ravi]"
      ]
     },
     "execution_count": 35,
     "metadata": {},
     "output_type": "execute_result"
    }
   ],
   "source": [
    "stdObjs"
   ]
  },
  {
   "cell_type": "code",
   "execution_count": 36,
   "metadata": {},
   "outputs": [
    {
     "data": {
      "text/plain": [
       "__main__.student"
      ]
     },
     "execution_count": 36,
     "metadata": {},
     "output_type": "execute_result"
    }
   ],
   "source": [
    "student"
   ]
  },
  {
   "cell_type": "code",
   "execution_count": 37,
   "metadata": {},
   "outputs": [],
   "source": [
    "class triangle:\n",
    "    def __init__ (self,b=0,h=0):\n",
    "        self.base = b\n",
    "        self.height = h   #instance method\n",
    "    def area(self):\n",
    "        return self.base*self.height/2\n",
    "    def __repr__(self):\n",
    "        return f'triangle({self.area()})'"
   ]
  },
  {
   "cell_type": "code",
   "execution_count": 40,
   "metadata": {},
   "outputs": [],
   "source": [
    "data=[triangle(12,5),triangle(10,5),triangle(6,25),triangle(8,15)]"
   ]
  },
  {
   "cell_type": "code",
   "execution_count": 41,
   "metadata": {},
   "outputs": [
    {
     "data": {
      "text/plain": [
       "[triangle(30.0), triangle(25.0), triangle(75.0), triangle(60.0)]"
      ]
     },
     "execution_count": 41,
     "metadata": {},
     "output_type": "execute_result"
    }
   ],
   "source": [
    "data"
   ]
  },
  {
   "cell_type": "markdown",
   "metadata": {},
   "source": [
    "# complicated class\n"
   ]
  },
  {
   "cell_type": "code",
   "execution_count": 50,
   "metadata": {},
   "outputs": [],
   "source": [
    "import os\n",
    "class reader:\n",
    "    # reads a file and reeturns the content\n",
    "    def __init__(self,path):\n",
    "        if not os.path.exists(path):\n",
    "            raise Exception('file does not exist')\n",
    "        self.path = path\n",
    "        self.content = self.read()\n",
    "\n",
    "    def read(self):\n",
    "        with open(self.path,\"r\") as f:\n",
    "            return f.read()\n",
    "\n",
    "    def count_words(self):\n",
    "        return len(self.content.split())\n",
    "\n",
    "    def count_chars(self):\n",
    "        return len(self.content)\n",
    "\n",
    "    def __str__(self):\n",
    "        return self.content        "
   ]
  },
  {
   "cell_type": "code",
   "execution_count": 51,
   "metadata": {},
   "outputs": [],
   "source": [
    "r1 = reader('nested.py')"
   ]
  },
  {
   "cell_type": "code",
   "execution_count": 52,
   "metadata": {},
   "outputs": [
    {
     "name": "stdout",
     "output_type": "stream",
     "text": [
      "from turtle import *\n",
      "\n",
      "speed('fastest')\n",
      "pencolor('red')\n",
      "fillcolor('blue')\n",
      "\n",
      "for i in range (5):\n",
      "    fd (100)\n",
      "    for i in range(5):\n",
      "        fd(50)\n",
      "        for i in range(5):\n",
      "            fd(50)\n",
      "            lt(72)\n",
      "        lt(72)\n",
      "    rt(72) \n",
      "\n",
      "hideturtle()\n",
      "mainloop()\n"
     ]
    }
   ],
   "source": [
    "print(r1.content)"
   ]
  },
  {
   "cell_type": "code",
   "execution_count": 54,
   "metadata": {},
   "outputs": [
    {
     "name": "stdout",
     "output_type": "stream",
     "text": [
      "29\n",
      "261\n"
     ]
    }
   ],
   "source": [
    "print(r1.count_words())\n",
    "print(r1.count_chars())"
   ]
  },
  {
   "cell_type": "code",
   "execution_count": null,
   "metadata": {},
   "outputs": [],
   "source": []
  }
 ],
 "metadata": {
  "kernelspec": {
   "display_name": "base",
   "language": "python",
   "name": "python3"
  },
  "language_info": {
   "codemirror_mode": {
    "name": "ipython",
    "version": 3
   },
   "file_extension": ".py",
   "mimetype": "text/x-python",
   "name": "python",
   "nbconvert_exporter": "python",
   "pygments_lexer": "ipython3",
   "version": "3.10.8"
  },
  "orig_nbformat": 4
 },
 "nbformat": 4,
 "nbformat_minor": 2
}
