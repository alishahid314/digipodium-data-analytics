{
 "cells": [
  {
   "cell_type": "code",
   "execution_count": 43,
   "metadata": {},
   "outputs": [],
   "source": [
    "for num in range(2,12):\n",
    "    print('sheep',num)"
   ]
  },
  {
   "cell_type": "code",
   "execution_count": 4,
   "metadata": {},
   "outputs": [
    {
     "name": "stdout",
     "output_type": "stream",
     "text": [
      "yu got it 0\n",
      "yu got it 1\n",
      "yu got it 2\n",
      "yu got it 3\n",
      "yu got it 4\n",
      "yu got it 5\n",
      "yu got it 6\n",
      "yu got it 7\n",
      "yu got it 8\n",
      "yu got it 9\n",
      "yu got it 10\n",
      "yu got it 11\n"
     ]
    }
   ],
   "source": [
    "for i in range(12):\n",
    "    print(\"yu got it\",i)"
   ]
  },
  {
   "cell_type": "code",
   "execution_count": 5,
   "metadata": {},
   "outputs": [
    {
     "name": "stdout",
     "output_type": "stream",
     "text": [
      "10\n",
      "9\n",
      "8\n",
      "7\n",
      "6\n"
     ]
    }
   ],
   "source": [
    "for num in range(10,5,-1):\n",
    "    print(num)"
   ]
  },
  {
   "cell_type": "code",
   "execution_count": 9,
   "metadata": {},
   "outputs": [
    {
     "name": "stdout",
     "output_type": "stream",
     "text": [
      "\n",
      "na\n",
      "nana\n",
      "nanana\n",
      "nananana\n",
      "nanananana\n",
      "nananananana\n",
      "nanananananana\n",
      "nananananananana\n",
      "nanananananananana\n"
     ]
    }
   ],
   "source": [
    "for i in range(10):\n",
    "    print(i*'na')"
   ]
  },
  {
   "cell_type": "code",
   "execution_count": 10,
   "metadata": {},
   "outputs": [
    {
     "name": "stdout",
     "output_type": "stream",
     "text": [
      "run\n",
      "run\n",
      "run\n",
      "run\n",
      "stop\n"
     ]
    }
   ],
   "source": [
    "x=1\n",
    "while x<5:\n",
    "    print('run')\n",
    "    x +=1\n",
    "print('stop')"
   ]
  },
  {
   "cell_type": "code",
   "execution_count": 5,
   "metadata": {},
   "outputs": [
    {
     "name": "stdout",
     "output_type": "stream",
     "text": [
      "we have 12\n",
      "we have 56\n",
      "thats all\n"
     ]
    }
   ],
   "source": [
    "fruits = [12,56]\n",
    "for i in fruits:\n",
    "    print ('we have',i)\n",
    "else:\n",
    "    print('thats all')"
   ]
  },
  {
   "cell_type": "code",
   "execution_count": 2,
   "metadata": {},
   "outputs": [
    {
     "name": "stdout",
     "output_type": "stream",
     "text": [
      "<class 'str'>\n"
     ]
    }
   ],
   "source": [
    "print(type(\"fruits\"))"
   ]
  },
  {
   "cell_type": "code",
   "execution_count": 1,
   "metadata": {},
   "outputs": [
    {
     "name": "stdout",
     "output_type": "stream",
     "text": [
      "my name is shahid\n"
     ]
    }
   ],
   "source": [
    "a= (\"my name is shahid\")\n",
    "print(a)"
   ]
  },
  {
   "cell_type": "code",
   "execution_count": 6,
   "metadata": {},
   "outputs": [
    {
     "name": "stdout",
     "output_type": "stream",
     "text": [
      "enter any number \n",
      "what you\n",
      " want\n"
     ]
    }
   ],
   "source": [
    "a = (\"enter any number \\nwhat you\\n want\")\n",
    "print(a)"
   ]
  },
  {
   "cell_type": "code",
   "execution_count": 16,
   "metadata": {},
   "outputs": [
    {
     "name": "stdout",
     "output_type": "stream",
     "text": [
      "good\n",
      "morning shahid\n"
     ]
    }
   ],
   "source": [
    "a = input(\"name\")\n",
    "print(\"good\\nmorning\",a)\n"
   ]
  },
  {
   "cell_type": "code",
   "execution_count": 27,
   "metadata": {},
   "outputs": [
    {
     "name": "stdout",
     "output_type": "stream",
     "text": [
      "shahid ali ansari\n",
      "\n",
      "you are selected! \n",
      "\n",
      "2 march 2023\n"
     ]
    }
   ],
   "source": [
    "a = input('enter your name')\n",
    "b = input ('date')\n",
    "print(a)\n",
    "print('\\nyou are selected! \\n')\n",
    "print(b)"
   ]
  },
  {
   "cell_type": "code",
   "execution_count": 29,
   "metadata": {},
   "outputs": [],
   "source": [
    "a=[1,2,3,6,5,6,]"
   ]
  },
  {
   "cell_type": "code",
   "execution_count": 41,
   "metadata": {},
   "outputs": [
    {
     "name": "stdout",
     "output_type": "stream",
     "text": [
      "shahid 3\n",
      "['shahid', 3, 5]\n"
     ]
    }
   ],
   "source": [
    "a[0]='shahid'\n",
    "print(a[0],a[2])\n",
    "print(a[::2])"
   ]
  },
  {
   "cell_type": "code",
   "execution_count": 42,
   "metadata": {},
   "outputs": [],
   "source": [
    "c=[45,'shahid',0.236,False]"
   ]
  },
  {
   "cell_type": "code",
   "execution_count": 43,
   "metadata": {},
   "outputs": [
    {
     "data": {
      "text/plain": [
       "'shahid'"
      ]
     },
     "execution_count": 43,
     "metadata": {},
     "output_type": "execute_result"
    }
   ],
   "source": [
    "c[1\n",
    "]"
   ]
  },
  {
   "cell_type": "code",
   "execution_count": 25,
   "metadata": {},
   "outputs": [
    {
     "data": {
      "text/plain": [
       "'shahi'"
      ]
     },
     "execution_count": 25,
     "metadata": {},
     "output_type": "execute_result"
    }
   ],
   "source": [
    "a= 'shahid'\n",
    "a[0:5]"
   ]
  },
  {
   "cell_type": "code",
   "execution_count": 36,
   "metadata": {},
   "outputs": [
    {
     "name": "stdout",
     "output_type": "stream",
     "text": [
      "3\n"
     ]
    }
   ],
   "source": [
    "#tuple\n",
    "t = (1,2,3,6,6,58,5,2,56,2,5)\n",
    "print(t.count(2))"
   ]
  },
  {
   "cell_type": "code",
   "execution_count": 12,
   "metadata": {},
   "outputs": [
    {
     "name": "stdout",
     "output_type": "stream",
     "text": [
      "['manngo', 'lichi', 'apple', 'banana', 'guvava']\n"
     ]
    }
   ],
   "source": [
    "a=input(\"enter 1 fruit\")\n",
    "b=input(\"enter 2 fruit\")\n",
    "c=input(\"enter 3 fruit\")\n",
    "d=input(\"enter 4 fruit\")\n",
    "e=input(\"enter 5 fruit\")\n",
    "fruit_list=[a,b,c,d,e]\n",
    "print(fruit_list)"
   ]
  },
  {
   "cell_type": "code",
   "execution_count": 6,
   "metadata": {},
   "outputs": [
    {
     "name": "stdout",
     "output_type": "stream",
     "text": [
      "3\n"
     ]
    }
   ],
   "source": [
    "a = (2,36,85,6,2,6,2,62,6,26,6,6,6,262,6)\n",
    "print(a.index(6))"
   ]
  },
  {
   "cell_type": "code",
   "execution_count": 19,
   "metadata": {},
   "outputs": [
    {
     "name": "stdout",
     "output_type": "stream",
     "text": [
      "[9, 10, 23, 45, 56]\n"
     ]
    }
   ],
   "source": [
    "\n",
    "a= int(input(\"number1\"))\n",
    "b= int(input(\"number2\"))\n",
    "c= int(input(\"number3\"))\n",
    "d=int(input(\"number4\"))\n",
    "e= int(input(\"number5\"))\n",
    "h=[a,b,c,d,e]\n",
    "h.sort()\n",
    "print(h)\n"
   ]
  },
  {
   "cell_type": "code",
   "execution_count": 22,
   "metadata": {},
   "outputs": [],
   "source": [
    "a =[10,25,65,45,4]\n",
    "a[2]=23"
   ]
  },
  {
   "cell_type": "code",
   "execution_count": 23,
   "metadata": {},
   "outputs": [
    {
     "name": "stdout",
     "output_type": "stream",
     "text": [
      "[10, 25, 23, 45, 4]\n"
     ]
    }
   ],
   "source": [
    "[print(a)"
   ]
  },
  {
   "cell_type": "code",
   "execution_count": 26,
   "metadata": {},
   "outputs": [
    {
     "name": "stdout",
     "output_type": "stream",
     "text": [
      "7\n"
     ]
    },
    {
     "data": {
      "text/plain": [
       "27"
      ]
     },
     "execution_count": 26,
     "metadata": {},
     "output_type": "execute_result"
    }
   ],
   "source": [
    "a=[2,5,6,9,5]\n",
    "print(a[0]+a[4])\n",
    "sum(a)"
   ]
  },
  {
   "cell_type": "code",
   "execution_count": 28,
   "metadata": {},
   "outputs": [
    {
     "data": {
      "text/plain": [
       "30"
      ]
     },
     "execution_count": 28,
     "metadata": {},
     "output_type": "execute_result"
    }
   ],
   "source": [
    "a=(0,2,5,2,0,5,6,0,4,0,5,0,6,0,6,0,6,6,0,0,0,0,0,0,0,0,0,0,0,0,0,0,0,0,0,0,0,0,0,0,0,)\n",
    "a.count(0)"
   ]
  },
  {
   "cell_type": "code",
   "execution_count": 38,
   "metadata": {},
   "outputs": [
    {
     "name": "stdout",
     "output_type": "stream",
     "text": [
      "ladka\n"
     ]
    }
   ],
   "source": [
    "p={\"boy\":\"ladka\"}\n",
    "print(p['boy'])"
   ]
  },
  {
   "cell_type": "code",
   "execution_count": 9,
   "metadata": {},
   "outputs": [
    {
     "name": "stdout",
     "output_type": "stream",
     "text": [
      "\n",
      "python \n",
      "is \n",
      "everywhere\n"
     ]
    }
   ],
   "source": [
    "print(\"\\npython \\nis \\neverywhere\")\n",
    "\n"
   ]
  },
  {
   "cell_type": "code",
   "execution_count": 14,
   "metadata": {},
   "outputs": [],
   "source": [
    "a={\"name\":\"shahid\",\n",
    "   \"from\":\"india\",\n",
    "   \"marks\": [60,65,45]}"
   ]
  },
  {
   "cell_type": "code",
   "execution_count": 3,
   "metadata": {},
   "outputs": [
    {
     "name": "stdout",
     "output_type": "stream",
     "text": [
      "<class 'dict'>\n"
     ]
    }
   ],
   "source": [
    "print(type(a))"
   ]
  },
  {
   "cell_type": "code",
   "execution_count": 17,
   "metadata": {},
   "outputs": [],
   "source": [
    "a['name']='harry'"
   ]
  },
  {
   "cell_type": "code",
   "execution_count": 26,
   "metadata": {},
   "outputs": [
    {
     "name": "stdout",
     "output_type": "stream",
     "text": [
      "{'name': 'harry', 'from': 'india', 'marks': [60, 65, 45]}\n",
      "{'name': 'harry', 'from': 'india', 'marks': [60, 65, 45]}\n",
      "{'name': 'harry', 'from': 'india', 'marks': [60, 65, 45]}\n"
     ]
    }
   ],
   "source": [
    "for k in a:\n",
    "    print(a)"
   ]
  },
  {
   "cell_type": "code",
   "execution_count": 25,
   "metadata": {},
   "outputs": [
    {
     "name": "stdout",
     "output_type": "stream",
     "text": [
      "dict_values(['harry', 'india', [60, 65, 45]])\n"
     ]
    }
   ],
   "source": [
    "print(a.values())"
   ]
  },
  {
   "cell_type": "code",
   "execution_count": 27,
   "metadata": {},
   "outputs": [],
   "source": [
    "a['city']='lko'"
   ]
  },
  {
   "cell_type": "code",
   "execution_count": 28,
   "metadata": {},
   "outputs": [
    {
     "name": "stdout",
     "output_type": "stream",
     "text": [
      "{'name': 'harry', 'from': 'india', 'marks': [60, 65, 45], 'city': 'lko'}\n"
     ]
    }
   ],
   "source": [
    "print(a)"
   ]
  },
  {
   "cell_type": "code",
   "execution_count": 30,
   "metadata": {},
   "outputs": [],
   "source": [
    "d={'school':'lps'}\n",
    "a.update(d)"
   ]
  },
  {
   "cell_type": "code",
   "execution_count": 31,
   "metadata": {},
   "outputs": [
    {
     "name": "stdout",
     "output_type": "stream",
     "text": [
      "{'name': 'harry', 'from': 'india', 'marks': [60, 65, 45], 'city': 'lko', 'school': 'lps'}\n"
     ]
    }
   ],
   "source": [
    "print(a)"
   ]
  },
  {
   "cell_type": "code",
   "execution_count": 52,
   "metadata": {},
   "outputs": [
    {
     "name": "stdout",
     "output_type": "stream",
     "text": [
      "None\n"
     ]
    }
   ],
   "source": [
    "set={1,5,3,6,9,5,89,65,65,45}\n",
    "print(set.remove(9))"
   ]
  },
  {
   "cell_type": "code",
   "execution_count": 53,
   "metadata": {},
   "outputs": [
    {
     "name": "stdout",
     "output_type": "stream",
     "text": [
      "{65, 1, 3, 5, 6, 45, 89}\n"
     ]
    }
   ],
   "source": [
    "print(set)"
   ]
  },
  {
   "cell_type": "code",
   "execution_count": 1,
   "metadata": {},
   "outputs": [
    {
     "name": "stdout",
     "output_type": "stream",
     "text": [
      "2\n"
     ]
    }
   ],
   "source": [
    "s = {20,20.0,\"20\"}\n",
    "print(len(s))"
   ]
  },
  {
   "cell_type": "code",
   "execution_count": 55,
   "metadata": {},
   "outputs": [
    {
     "ename": "TypeError",
     "evalue": "unhashable type: 'set'",
     "output_type": "error",
     "traceback": [
      "\u001b[1;31m---------------------------------------------------------------------------\u001b[0m",
      "\u001b[1;31mTypeError\u001b[0m                                 Traceback (most recent call last)",
      "Cell \u001b[1;32mIn[55], line 3\u001b[0m\n\u001b[0;32m      1\u001b[0m ab\u001b[39m=\u001b[39m{\u001b[39m1\u001b[39m,\u001b[39m2\u001b[39m,\u001b[39m3\u001b[39m,\u001b[39m5\u001b[39m}\n\u001b[0;32m      2\u001b[0m bc\u001b[39m=\u001b[39m{\u001b[39m6\u001b[39m,\u001b[39m7\u001b[39m,\u001b[39m8\u001b[39m,\u001b[39m9\u001b[39m}\n\u001b[1;32m----> 3\u001b[0m \u001b[39mprint\u001b[39m(ab\u001b[39m.\u001b[39munion({ab,bc}))\n",
      "\u001b[1;31mTypeError\u001b[0m: unhashable type: 'set'"
     ]
    }
   ],
   "source": [
    "ab={1,2,3,5}\n",
    "bc={6,7,8,9}\n"
   ]
  },
  {
   "cell_type": "code",
   "execution_count": 2,
   "metadata": {},
   "outputs": [],
   "source": [
    "s={}"
   ]
  },
  {
   "cell_type": "code",
   "execution_count": 4,
   "metadata": {},
   "outputs": [
    {
     "name": "stdout",
     "output_type": "stream",
     "text": [
      "<class 'dict'>\n"
     ]
    }
   ],
   "source": [
    "print(type(s))"
   ]
  },
  {
   "cell_type": "code",
   "execution_count": 7,
   "metadata": {},
   "outputs": [
    {
     "name": "stdout",
     "output_type": "stream",
     "text": [
      "{'raam': 'enter your fav lang raam\\n', 'shyam': 'enter your fav lang shyam\\n', 'sohan': 'enter your fav lang sohan\\n', 'rohan': 'enter your fav lang rohan\\n'}\n"
     ]
    }
   ],
   "source": [
    "fav_lang={}\n",
    "a=('enter your fav lang raam\\n')\n",
    "b=('enter your fav lang shyam\\n')\n",
    "c=('enter your fav lang sohan\\n')\n",
    "d=('enter your fav lang rohan\\n')\n",
    "fav_lang['raam']=a\n",
    "fav_lang['shyam']=b\n",
    "fav_lang['sohan']=c\n",
    "fav_lang['rohan']=d\n",
    "print(fav_lang)\n"
   ]
  },
  {
   "cell_type": "code",
   "execution_count": 22,
   "metadata": {},
   "outputs": [
    {
     "name": "stdout",
     "output_type": "stream",
     "text": [
      "you ho\n"
     ]
    }
   ],
   "source": [
    "a=35\n",
    "if (a>36):\n",
    "    print(\"good\")\n",
    "elif(a!=35):\n",
    "    print(\"you\")\n",
    "if(a<98):\n",
    "    print(\"you ho\")"
   ]
  },
  {
   "cell_type": "code",
   "execution_count": 24,
   "metadata": {},
   "outputs": [
    {
     "name": "stdout",
     "output_type": "stream",
     "text": [
      "yes\n"
     ]
    }
   ],
   "source": [
    "a = int(input(\"enter your age\"))\n",
    "if a>18:\n",
    "    print(\"yes\")\n",
    "else:\n",
    "    print(\"no\")"
   ]
  },
  {
   "cell_type": "code",
   "execution_count": 29,
   "metadata": {},
   "outputs": [
    {
     "ename": "SyntaxError",
     "evalue": "invalid syntax. Perhaps you forgot a comma? (2858851096.py, line 2)",
     "output_type": "error",
     "traceback": [
      "\u001b[1;36m  Cell \u001b[1;32mIn[29], line 2\u001b[1;36m\u001b[0m\n\u001b[1;33m    if(a>18 not a<30):\u001b[0m\n\u001b[1;37m       ^\u001b[0m\n\u001b[1;31mSyntaxError\u001b[0m\u001b[1;31m:\u001b[0m invalid syntax. Perhaps you forgot a comma?\n"
     ]
    }
   ],
   "source": [
    "a = int(input(\"enter your age\"))\n",
    "if(a>18 not a<30):\n",
    "    print(\"u are young\")\n",
    "else:\n",
    "    print(\"teen\")"
   ]
  },
  {
   "cell_type": "code",
   "execution_count": 34,
   "metadata": {},
   "outputs": [
    {
     "name": "stdout",
     "output_type": "stream",
     "text": [
      "True\n"
     ]
    }
   ],
   "source": [
    "a =[2,6,5,8,9,6,5,25]\n",
    "print(5 in a)"
   ]
  },
  {
   "cell_type": "code",
   "execution_count": 3,
   "metadata": {},
   "outputs": [
    {
     "name": "stdout",
     "output_type": "stream",
     "text": [
      " b is greatest\n"
     ]
    }
   ],
   "source": [
    "a = int(input(\"enter value: \"))\n",
    "b = int(input(\"enter value: \"))\n",
    "c = int(input(\"enter value: \"))\n",
    "d = int(input(\"enter value: \"))\n",
    "if(a>b and a>c and a>d):\n",
    "    print(\" a is  greatest\")\n",
    "elif(b>c and b>a and b>d):\n",
    "    print(\" b is greatest\")\n",
    "elif(c>b and a>c and c>d):\n",
    "    print(\" c is greatest\")\n",
    "else:\n",
    "    print('d is greatest')\n"
   ]
  },
  {
   "cell_type": "code",
   "execution_count": 17,
   "metadata": {},
   "outputs": [
    {
     "name": "stdout",
     "output_type": "stream",
     "text": [
      "2\n",
      "4\n",
      "6\n",
      "8\n"
     ]
    }
   ],
   "source": [
    "for i in range(2,10,2):\n",
    "    print(i)"
   ]
  },
  {
   "cell_type": "code",
   "execution_count": 3,
   "metadata": {},
   "outputs": [
    {
     "name": "stdout",
     "output_type": "stream",
     "text": [
      "a is gratest\n"
     ]
    }
   ],
   "source": [
    "\n",
    "\n"
   ]
  }
 ],
 "metadata": {
  "kernelspec": {
   "display_name": "base",
   "language": "python",
   "name": "python3"
  },
  "language_info": {
   "codemirror_mode": {
    "name": "ipython",
    "version": 3
   },
   "file_extension": ".py",
   "mimetype": "text/x-python",
   "name": "python",
   "nbconvert_exporter": "python",
   "pygments_lexer": "ipython3",
   "version": "3.10.8"
  },
  "orig_nbformat": 4,
  "vscode": {
   "interpreter": {
    "hash": "d352f530d35ba9a8cbd74dc54ae14fe97a35856bed16a2f3b615ca61b68e7fcb"
   }
  }
 },
 "nbformat": 4,
 "nbformat_minor": 2
}
